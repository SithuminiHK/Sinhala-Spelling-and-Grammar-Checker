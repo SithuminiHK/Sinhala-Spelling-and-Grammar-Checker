{
  "nbformat": 4,
  "nbformat_minor": 0,
  "metadata": {
    "colab": {
      "provenance": []
    },
    "kernelspec": {
      "name": "python3",
      "display_name": "Python 3"
    },
    "language_info": {
      "name": "python"
    }
  },
  "cells": [
    {
      "cell_type": "code",
      "execution_count": null,
      "metadata": {
        "colab": {
          "base_uri": "https://localhost:8080/"
        },
        "id": "b1Sg2QcIs0n3",
        "outputId": "bba7fbe4-68c0-4e7a-a8c8-f0a2ae79f39c"
      },
      "outputs": [
        {
          "output_type": "stream",
          "name": "stdout",
          "text": [
            "Requirement already satisfied: transformers in /usr/local/lib/python3.10/dist-packages (4.47.1)\n",
            "Requirement already satisfied: nltk in /usr/local/lib/python3.10/dist-packages (3.9.1)\n",
            "Requirement already satisfied: deep-translator in /usr/local/lib/python3.10/dist-packages (1.11.4)\n",
            "Requirement already satisfied: torch in /usr/local/lib/python3.10/dist-packages (2.5.1+cu121)\n",
            "Requirement already satisfied: filelock in /usr/local/lib/python3.10/dist-packages (from transformers) (3.16.1)\n",
            "Requirement already satisfied: huggingface-hub<1.0,>=0.24.0 in /usr/local/lib/python3.10/dist-packages (from transformers) (0.27.0)\n",
            "Requirement already satisfied: numpy>=1.17 in /usr/local/lib/python3.10/dist-packages (from transformers) (1.26.4)\n",
            "Requirement already satisfied: packaging>=20.0 in /usr/local/lib/python3.10/dist-packages (from transformers) (24.2)\n",
            "Requirement already satisfied: pyyaml>=5.1 in /usr/local/lib/python3.10/dist-packages (from transformers) (6.0.2)\n",
            "Requirement already satisfied: regex!=2019.12.17 in /usr/local/lib/python3.10/dist-packages (from transformers) (2024.11.6)\n",
            "Requirement already satisfied: requests in /usr/local/lib/python3.10/dist-packages (from transformers) (2.32.3)\n",
            "Requirement already satisfied: tokenizers<0.22,>=0.21 in /usr/local/lib/python3.10/dist-packages (from transformers) (0.21.0)\n",
            "Requirement already satisfied: safetensors>=0.4.1 in /usr/local/lib/python3.10/dist-packages (from transformers) (0.4.5)\n",
            "Requirement already satisfied: tqdm>=4.27 in /usr/local/lib/python3.10/dist-packages (from transformers) (4.67.1)\n",
            "Requirement already satisfied: click in /usr/local/lib/python3.10/dist-packages (from nltk) (8.1.7)\n",
            "Requirement already satisfied: joblib in /usr/local/lib/python3.10/dist-packages (from nltk) (1.4.2)\n",
            "Requirement already satisfied: beautifulsoup4<5.0.0,>=4.9.1 in /usr/local/lib/python3.10/dist-packages (from deep-translator) (4.12.3)\n",
            "Requirement already satisfied: typing-extensions>=4.8.0 in /usr/local/lib/python3.10/dist-packages (from torch) (4.12.2)\n",
            "Requirement already satisfied: networkx in /usr/local/lib/python3.10/dist-packages (from torch) (3.4.2)\n",
            "Requirement already satisfied: jinja2 in /usr/local/lib/python3.10/dist-packages (from torch) (3.1.4)\n",
            "Requirement already satisfied: fsspec in /usr/local/lib/python3.10/dist-packages (from torch) (2024.10.0)\n",
            "Requirement already satisfied: sympy==1.13.1 in /usr/local/lib/python3.10/dist-packages (from torch) (1.13.1)\n",
            "Requirement already satisfied: mpmath<1.4,>=1.1.0 in /usr/local/lib/python3.10/dist-packages (from sympy==1.13.1->torch) (1.3.0)\n",
            "Requirement already satisfied: soupsieve>1.2 in /usr/local/lib/python3.10/dist-packages (from beautifulsoup4<5.0.0,>=4.9.1->deep-translator) (2.6)\n",
            "Requirement already satisfied: charset-normalizer<4,>=2 in /usr/local/lib/python3.10/dist-packages (from requests->transformers) (3.4.0)\n",
            "Requirement already satisfied: idna<4,>=2.5 in /usr/local/lib/python3.10/dist-packages (from requests->transformers) (3.10)\n",
            "Requirement already satisfied: urllib3<3,>=1.21.1 in /usr/local/lib/python3.10/dist-packages (from requests->transformers) (2.2.3)\n",
            "Requirement already satisfied: certifi>=2017.4.17 in /usr/local/lib/python3.10/dist-packages (from requests->transformers) (2024.12.14)\n",
            "Requirement already satisfied: MarkupSafe>=2.0 in /usr/local/lib/python3.10/dist-packages (from jinja2->torch) (3.0.2)\n"
          ]
        }
      ],
      "source": [
        "!pip install transformers nltk deep-translator torch\n",
        "\n"
      ]
    },
    {
      "cell_type": "code",
      "source": [
        "from transformers import AutoTokenizer, AutoModelForMaskedLM, pipeline\n",
        "from nltk.metrics.distance import edit_distance\n",
        "from nltk.tokenize import word_tokenize\n",
        "from deep_translator import GoogleTranslator\n",
        "import re\n"
      ],
      "metadata": {
        "id": "uyXMqpIRyWyu"
      },
      "execution_count": null,
      "outputs": []
    },
    {
      "cell_type": "code",
      "source": [
        "from google.colab import files\n",
        "uploaded = files.upload()\n"
      ],
      "metadata": {
        "colab": {
          "base_uri": "https://localhost:8080/",
          "height": 72
        },
        "id": "_qNr7lPK1aba",
        "outputId": "dc6abd8b-4d7a-4765-f616-ea096d14dc4b"
      },
      "execution_count": null,
      "outputs": [
        {
          "output_type": "display_data",
          "data": {
            "text/plain": [
              "<IPython.core.display.HTML object>"
            ],
            "text/html": [
              "\n",
              "     <input type=\"file\" id=\"files-bd9448fd-3f2d-4bcc-8f50-6b7bba56ecf7\" name=\"files[]\" multiple disabled\n",
              "        style=\"border:none\" />\n",
              "     <output id=\"result-bd9448fd-3f2d-4bcc-8f50-6b7bba56ecf7\">\n",
              "      Upload widget is only available when the cell has been executed in the\n",
              "      current browser session. Please rerun this cell to enable.\n",
              "      </output>\n",
              "      <script>// Copyright 2017 Google LLC\n",
              "//\n",
              "// Licensed under the Apache License, Version 2.0 (the \"License\");\n",
              "// you may not use this file except in compliance with the License.\n",
              "// You may obtain a copy of the License at\n",
              "//\n",
              "//      http://www.apache.org/licenses/LICENSE-2.0\n",
              "//\n",
              "// Unless required by applicable law or agreed to in writing, software\n",
              "// distributed under the License is distributed on an \"AS IS\" BASIS,\n",
              "// WITHOUT WARRANTIES OR CONDITIONS OF ANY KIND, either express or implied.\n",
              "// See the License for the specific language governing permissions and\n",
              "// limitations under the License.\n",
              "\n",
              "/**\n",
              " * @fileoverview Helpers for google.colab Python module.\n",
              " */\n",
              "(function(scope) {\n",
              "function span(text, styleAttributes = {}) {\n",
              "  const element = document.createElement('span');\n",
              "  element.textContent = text;\n",
              "  for (const key of Object.keys(styleAttributes)) {\n",
              "    element.style[key] = styleAttributes[key];\n",
              "  }\n",
              "  return element;\n",
              "}\n",
              "\n",
              "// Max number of bytes which will be uploaded at a time.\n",
              "const MAX_PAYLOAD_SIZE = 100 * 1024;\n",
              "\n",
              "function _uploadFiles(inputId, outputId) {\n",
              "  const steps = uploadFilesStep(inputId, outputId);\n",
              "  const outputElement = document.getElementById(outputId);\n",
              "  // Cache steps on the outputElement to make it available for the next call\n",
              "  // to uploadFilesContinue from Python.\n",
              "  outputElement.steps = steps;\n",
              "\n",
              "  return _uploadFilesContinue(outputId);\n",
              "}\n",
              "\n",
              "// This is roughly an async generator (not supported in the browser yet),\n",
              "// where there are multiple asynchronous steps and the Python side is going\n",
              "// to poll for completion of each step.\n",
              "// This uses a Promise to block the python side on completion of each step,\n",
              "// then passes the result of the previous step as the input to the next step.\n",
              "function _uploadFilesContinue(outputId) {\n",
              "  const outputElement = document.getElementById(outputId);\n",
              "  const steps = outputElement.steps;\n",
              "\n",
              "  const next = steps.next(outputElement.lastPromiseValue);\n",
              "  return Promise.resolve(next.value.promise).then((value) => {\n",
              "    // Cache the last promise value to make it available to the next\n",
              "    // step of the generator.\n",
              "    outputElement.lastPromiseValue = value;\n",
              "    return next.value.response;\n",
              "  });\n",
              "}\n",
              "\n",
              "/**\n",
              " * Generator function which is called between each async step of the upload\n",
              " * process.\n",
              " * @param {string} inputId Element ID of the input file picker element.\n",
              " * @param {string} outputId Element ID of the output display.\n",
              " * @return {!Iterable<!Object>} Iterable of next steps.\n",
              " */\n",
              "function* uploadFilesStep(inputId, outputId) {\n",
              "  const inputElement = document.getElementById(inputId);\n",
              "  inputElement.disabled = false;\n",
              "\n",
              "  const outputElement = document.getElementById(outputId);\n",
              "  outputElement.innerHTML = '';\n",
              "\n",
              "  const pickedPromise = new Promise((resolve) => {\n",
              "    inputElement.addEventListener('change', (e) => {\n",
              "      resolve(e.target.files);\n",
              "    });\n",
              "  });\n",
              "\n",
              "  const cancel = document.createElement('button');\n",
              "  inputElement.parentElement.appendChild(cancel);\n",
              "  cancel.textContent = 'Cancel upload';\n",
              "  const cancelPromise = new Promise((resolve) => {\n",
              "    cancel.onclick = () => {\n",
              "      resolve(null);\n",
              "    };\n",
              "  });\n",
              "\n",
              "  // Wait for the user to pick the files.\n",
              "  const files = yield {\n",
              "    promise: Promise.race([pickedPromise, cancelPromise]),\n",
              "    response: {\n",
              "      action: 'starting',\n",
              "    }\n",
              "  };\n",
              "\n",
              "  cancel.remove();\n",
              "\n",
              "  // Disable the input element since further picks are not allowed.\n",
              "  inputElement.disabled = true;\n",
              "\n",
              "  if (!files) {\n",
              "    return {\n",
              "      response: {\n",
              "        action: 'complete',\n",
              "      }\n",
              "    };\n",
              "  }\n",
              "\n",
              "  for (const file of files) {\n",
              "    const li = document.createElement('li');\n",
              "    li.append(span(file.name, {fontWeight: 'bold'}));\n",
              "    li.append(span(\n",
              "        `(${file.type || 'n/a'}) - ${file.size} bytes, ` +\n",
              "        `last modified: ${\n",
              "            file.lastModifiedDate ? file.lastModifiedDate.toLocaleDateString() :\n",
              "                                    'n/a'} - `));\n",
              "    const percent = span('0% done');\n",
              "    li.appendChild(percent);\n",
              "\n",
              "    outputElement.appendChild(li);\n",
              "\n",
              "    const fileDataPromise = new Promise((resolve) => {\n",
              "      const reader = new FileReader();\n",
              "      reader.onload = (e) => {\n",
              "        resolve(e.target.result);\n",
              "      };\n",
              "      reader.readAsArrayBuffer(file);\n",
              "    });\n",
              "    // Wait for the data to be ready.\n",
              "    let fileData = yield {\n",
              "      promise: fileDataPromise,\n",
              "      response: {\n",
              "        action: 'continue',\n",
              "      }\n",
              "    };\n",
              "\n",
              "    // Use a chunked sending to avoid message size limits. See b/62115660.\n",
              "    let position = 0;\n",
              "    do {\n",
              "      const length = Math.min(fileData.byteLength - position, MAX_PAYLOAD_SIZE);\n",
              "      const chunk = new Uint8Array(fileData, position, length);\n",
              "      position += length;\n",
              "\n",
              "      const base64 = btoa(String.fromCharCode.apply(null, chunk));\n",
              "      yield {\n",
              "        response: {\n",
              "          action: 'append',\n",
              "          file: file.name,\n",
              "          data: base64,\n",
              "        },\n",
              "      };\n",
              "\n",
              "      let percentDone = fileData.byteLength === 0 ?\n",
              "          100 :\n",
              "          Math.round((position / fileData.byteLength) * 100);\n",
              "      percent.textContent = `${percentDone}% done`;\n",
              "\n",
              "    } while (position < fileData.byteLength);\n",
              "  }\n",
              "\n",
              "  // All done.\n",
              "  yield {\n",
              "    response: {\n",
              "      action: 'complete',\n",
              "    }\n",
              "  };\n",
              "}\n",
              "\n",
              "scope.google = scope.google || {};\n",
              "scope.google.colab = scope.google.colab || {};\n",
              "scope.google.colab._files = {\n",
              "  _uploadFiles,\n",
              "  _uploadFilesContinue,\n",
              "};\n",
              "})(self);\n",
              "</script> "
            ]
          },
          "metadata": {}
        },
        {
          "output_type": "stream",
          "name": "stdout",
          "text": [
            "Saving sinhala_vocab.txt to sinhala_vocab.txt\n"
          ]
        }
      ]
    },
    {
      "cell_type": "code",
      "source": [
        "#function to load vocabulary from the text file\n",
        "def load_vocab(file_path):\n",
        "    with open(file_path, \"r\", encoding=\"utf-8\") as f:\n",
        "        return [line.strip() for line in f]\n",
        "\n",
        "#example\n",
        "file_path = \"/content/sinhala_vocab.txt\"\n",
        "sinhala_vocab = load_vocab(file_path)\n",
        "print(sinhala_vocab)\n"
      ],
      "metadata": {
        "colab": {
          "base_uri": "https://localhost:8080/"
        },
        "id": "IF4RwkoV1w5J",
        "outputId": "1b668b7c-ba60-47dd-eb17-6ca3a468a726"
      },
      "execution_count": null,
      "outputs": [
        {
          "output_type": "stream",
          "name": "stdout",
          "text": [
            "['අකුරු', 'අඩවිය', 'අනුරාධපුර', 'අභිමානය', 'අරවින්ද', 'අවශ්\\u200dයතාව', 'අහස', 'අළුත්', 'ඇඳ', 'ඇඳුම්', 'ඇඩ්වෝකේට්', 'ඇනත්', 'ඇය', 'ඇල', 'ඉඳි', 'ඉඩම', 'ඉන්ද්\\u200dරජාල', 'ඉස්කෝල', 'ඉස්සර', 'ඉහළ', 'ඉවරය', 'ඉස්තර', 'ඉන්ධන', 'ඉන', 'ඉක්මනින්', 'ඉදිරියට', 'උදව්', 'උදාර', 'උදේ', 'උපන්දිනය', 'උපකාරක', 'උපන්සැරිය', 'උපුල්', 'උරහිස්', 'එක', 'එක්ව', 'එක්ක', 'එල', 'එළිය', 'එළවන', 'එසැණින්', 'එහා', 'ඔබ', 'ඔරලෝසුව', 'ඔරුව', 'ඔව්', 'ඕන', 'කතා', 'කටු', 'කටුක', 'කණ්', 'කඳු', 'කඳුළු', 'කඳවුර', 'කමටු', 'කම්මැලි', 'කය', 'කලාපය', 'කොටුව', 'කෝවිල', 'ගඟ', 'ගම', 'ගැටලු', 'ගිණි', 'ගිම්හාන', 'ගුරු', 'ගුරුවර', 'ගොවි', 'ගොඩනැගිල්ල', 'ගෝඨා', 'ගෘහය', 'ගෘහස්ථ', 'චතුර', 'චාරිකාව', 'චිත්\\u200dර', 'චිත්ත', 'චැටර්', 'චීන', 'චෙස්', 'ජනප්\\u200dරිය', 'ජලය', 'ජීවිතය', 'ජය', 'ජලමඟ', 'ටික', 'ඩොක්ටර්', 'ඩිජිටල්']\n"
          ]
        }
      ]
    },
    {
      "cell_type": "code",
      "source": [
        "#load vocabulary\n",
        "vocab_file = \"/content/sinhala_vocab.txt\"\n",
        "sinhala_vocab = load_vocab(vocab_file)\n",
        "\n",
        "#spelling correction function\n",
        "def correct_typo(word, vocab):\n",
        "    corrections = [(v, edit_distance(word, v)) for v in vocab]\n",
        "    corrections.sort(key=lambda x: x[1])\n",
        "    return corrections[0][0] if corrections[0][1] <= 2 else word  # Adjust threshold as needed\n",
        "\n",
        "#example\n",
        "input_word = \"අනුරාදපුර\"  #misspelled\n",
        "corrected_word = correct_typo(input_word, sinhala_vocab)\n",
        "print(f\"Input Word: {input_word}\")\n",
        "print(f\"Corrected Word: {corrected_word}\")"
      ],
      "metadata": {
        "colab": {
          "base_uri": "https://localhost:8080/"
        },
        "id": "4FLHgpVb12Jw",
        "outputId": "59010866-eecf-450f-e039-50c7e6785ab0"
      },
      "execution_count": null,
      "outputs": [
        {
          "output_type": "stream",
          "name": "stdout",
          "text": [
            "Input Word: අනුරාදපුර\n",
            "Corrected Word: අනුරාධපුර\n"
          ]
        }
      ]
    },
    {
      "cell_type": "code",
      "source": [
        "input_word = \"අබිමානය\"  #misspelled\n",
        "corrected_word = correct_typo(input_word, sinhala_vocab)\n",
        "print(f\"Input Word: {input_word}\")\n",
        "print(f\"Corrected Word: {corrected_word}\")"
      ],
      "metadata": {
        "colab": {
          "base_uri": "https://localhost:8080/"
        },
        "id": "x5VlSCiJj4Xt",
        "outputId": "d008a97e-0fa0-494a-e9a7-c7a8e43ad681"
      },
      "execution_count": null,
      "outputs": [
        {
          "output_type": "stream",
          "name": "stdout",
          "text": [
            "Input Word: අබිමානය\n",
            "Corrected Word: අභිමානය\n"
          ]
        }
      ]
    },
    {
      "cell_type": "code",
      "source": [
        "input_word = \"එසැනින්\"  #misspelled\n",
        "corrected_word = correct_typo(input_word, sinhala_vocab)\n",
        "print(f\"Input Word: {input_word}\")\n",
        "print(f\"Corrected Word: {corrected_word}\")"
      ],
      "metadata": {
        "colab": {
          "base_uri": "https://localhost:8080/"
        },
        "id": "TDiW3Ms2kaTQ",
        "outputId": "83a9acc4-1dfc-4e90-8a1a-71e327628e7f"
      },
      "execution_count": null,
      "outputs": [
        {
          "output_type": "stream",
          "name": "stdout",
          "text": [
            "Input Word: එසැනින්\n",
            "Corrected Word: එසැණින්\n"
          ]
        }
      ]
    },
    {
      "cell_type": "code",
      "source": [
        "from sklearn.metrics import accuracy_score\n",
        "\n",
        "#load vocabulary\n",
        "vocab_file = \"/content/sinhala_vocab.txt\"\n",
        "sinhala_vocab = load_vocab(vocab_file)\n",
        "\n",
        "#spelling correction function\n",
        "def correct_typo(word, vocab):\n",
        "    corrections = [(v, edit_distance(word, v)) for v in vocab]\n",
        "    corrections.sort(key=lambda x: x[1])\n",
        "    return corrections[0][0] if corrections[0][1] <= 2 else word  # Adjust threshold as needed\n",
        "\n",
        "#test dataset with misspelled and correct word pairs\n",
        "test_dataset = [\n",
        "    (\"අනුරාදපුර\", \"අනුරාධපුර\"),  #misspelled,corrected\n",
        "    (\"අබිමානය\", \"අභිමානය\"),\n",
        "    (\"එසැනින්\", \"එසැණින්\"),\n",
        "]\n",
        "\n",
        "#function to evaluate accuracy\n",
        "def evaluate_accuracy(test_dataset, vocab):\n",
        "    y_true = []  #correct words\n",
        "    y_pred = []  #predicted words\n",
        "\n",
        "    for misspelled, correct_word in test_dataset:\n",
        "        predicted_word = correct_typo(misspelled, vocab)\n",
        "        y_true.append(correct_word)\n",
        "        y_pred.append(predicted_word)\n",
        "\n",
        "    #calculate accuracy\n",
        "    accuracy = accuracy_score(y_true, y_pred)\n",
        "    return accuracy\n",
        "\n",
        "#example usage\n",
        "accuracy = evaluate_accuracy(test_dataset, sinhala_vocab)\n",
        "print(f\"Accuracy: {accuracy * 100:.2f}%\")\n"
      ],
      "metadata": {
        "colab": {
          "base_uri": "https://localhost:8080/"
        },
        "id": "M2XPAnb7lsC3",
        "outputId": "df0413f0-8533-4bcc-f3f8-48409f9bc956"
      },
      "execution_count": null,
      "outputs": [
        {
          "output_type": "stream",
          "name": "stdout",
          "text": [
            "Accuracy: 100.00%\n"
          ]
        }
      ]
    },
    {
      "cell_type": "code",
      "source": [
        "!pip install python-Levenshtein\n"
      ],
      "metadata": {
        "colab": {
          "base_uri": "https://localhost:8080/"
        },
        "id": "PxcadsIpggpP",
        "outputId": "d7592b7a-327c-4f30-f5ee-e0d371a263d7"
      },
      "execution_count": null,
      "outputs": [
        {
          "output_type": "stream",
          "name": "stdout",
          "text": [
            "Collecting python-Levenshtein\n",
            "  Downloading python_Levenshtein-0.26.1-py3-none-any.whl.metadata (3.7 kB)\n",
            "Collecting Levenshtein==0.26.1 (from python-Levenshtein)\n",
            "  Downloading levenshtein-0.26.1-cp310-cp310-manylinux_2_17_x86_64.manylinux2014_x86_64.whl.metadata (3.2 kB)\n",
            "Collecting rapidfuzz<4.0.0,>=3.9.0 (from Levenshtein==0.26.1->python-Levenshtein)\n",
            "  Downloading rapidfuzz-3.11.0-cp310-cp310-manylinux_2_17_x86_64.manylinux2014_x86_64.whl.metadata (11 kB)\n",
            "Downloading python_Levenshtein-0.26.1-py3-none-any.whl (9.4 kB)\n",
            "Downloading levenshtein-0.26.1-cp310-cp310-manylinux_2_17_x86_64.manylinux2014_x86_64.whl (162 kB)\n",
            "\u001b[2K   \u001b[90m━━━━━━━━━━━━━━━━━━━━━━━━━━━━━━━━━━━━━━━━\u001b[0m \u001b[32m162.6/162.6 kB\u001b[0m \u001b[31m4.0 MB/s\u001b[0m eta \u001b[36m0:00:00\u001b[0m\n",
            "\u001b[?25hDownloading rapidfuzz-3.11.0-cp310-cp310-manylinux_2_17_x86_64.manylinux2014_x86_64.whl (3.1 MB)\n",
            "\u001b[2K   \u001b[90m━━━━━━━━━━━━━━━━━━━━━━━━━━━━━━━━━━━━━━━━\u001b[0m \u001b[32m3.1/3.1 MB\u001b[0m \u001b[31m37.3 MB/s\u001b[0m eta \u001b[36m0:00:00\u001b[0m\n",
            "\u001b[?25hInstalling collected packages: rapidfuzz, Levenshtein, python-Levenshtein\n",
            "Successfully installed Levenshtein-0.26.1 python-Levenshtein-0.26.1 rapidfuzz-3.11.0\n"
          ]
        }
      ]
    },
    {
      "cell_type": "code",
      "source": [
        "import Levenshtein\n",
        "\n",
        "#phonetic Mapping for Sinhala\n",
        "phonetic_map = {\n",
        "    'ක': 'K', 'ග': 'G', 'ඛ': 'K', 'ඝ': 'G',  # Guttural sounds\n",
        "    'ච': 'C', 'ජ': 'J', 'ඡ': 'C', 'ඣ': 'J',  # Palatal sounds\n",
        "    'ට': 'T', 'ඩ': 'D', 'ඨ': 'T', 'ඪ': 'D',  # Retroflex sounds\n",
        "    'ත': 'T', 'ද': 'D', 'ථ': 'T', 'ධ': 'D',  # Dental sounds\n",
        "    'ප': 'P', 'බ': 'B', 'භ': 'B', 'ඵ': 'P',  # Labial sounds\n",
        "    'ම': 'M', 'ය': 'Y', 'ර': 'R', 'ල': 'L',  # Nasals and liquids\n",
        "    'ව': 'V', 'ස': 'S', 'හ': 'H', 'ෂ': 'S',  # Fricatives and others\n",
        "    '෴': 'Z', 'ඞ': 'N', 'ඤ': 'N', 'ඵ': 'P'   # Rare/less common sounds\n",
        "}\n",
        "\n",
        "#normalize word by removing vowels and modifiers\n",
        "def normalize(word):\n",
        "    vowels_modifiers = ['අ', 'ඇ', 'ඉ', 'එ', 'උ', 'ඔ', 'ා', 'ැ', 'ි', 'ී', 'ු', 'ූ', 'ෙ', 'ේ', 'ෟ']\n",
        "    return ''.join([char for char in word if char not in vowels_modifiers])\n",
        "\n",
        "#generate phonetic code for a word\n",
        "def sinhala_phonetic(word):\n",
        "    word = normalize(word)\n",
        "    phonetic_code = \"\".join([phonetic_map.get(char, '') for char in word if char in phonetic_map])\n",
        "    return phonetic_code\n",
        "\n",
        "#load the vocabulary and generate phonetic codes\n",
        "def load_vocab_with_phonetics(file_path):\n",
        "    with open(file_path, \"r\", encoding=\"utf-8\") as f:\n",
        "        vocab = [line.strip() for line in f]\n",
        "    return {word: sinhala_phonetic(word) for word in vocab}\n",
        "\n",
        "#find the closest match based on phonetic code and Levenshtein distance\n",
        "def find_closest_match(input_word, vocab_with_phonetics):\n",
        "    input_phonetic = sinhala_phonetic(input_word)\n",
        "\n",
        "    closest_match = None\n",
        "    min_distance = float('inf')\n",
        "\n",
        "    #find the word with the closest phonetic code\n",
        "    for word, phonetic in vocab_with_phonetics.items():\n",
        "        phonetic_distance = Levenshtein.distance(input_phonetic, phonetic)\n",
        "\n",
        "        #calculate the Levenshtein distance on the original words as well\n",
        "        word_distance = Levenshtein.distance(input_word, word)\n",
        "\n",
        "        #combine the two distances (use a weighted sum or choose based on your preference)\n",
        "        total_distance = phonetic_distance + word_distance\n",
        "\n",
        "        if total_distance < min_distance:\n",
        "            min_distance = total_distance\n",
        "            closest_match = word\n",
        "\n",
        "    return closest_match if closest_match else input_word\n",
        "\n",
        "#example\n",
        "vocab_path = \"/content/sinhala_vocab.txt\"\n",
        "\n",
        "#load vocabulary and generate phonetics\n",
        "vocab_with_phonetics = load_vocab_with_phonetics(vocab_path)\n",
        "\n",
        "#test with misspelled words\n",
        "test_words = [\"අඪවිය\", \"ගලාපය\", \"උතාර\", \"ඉහර\"]\n",
        "for word in test_words:\n",
        "    corrected = find_closest_match(word, vocab_with_phonetics)\n",
        "    print(f\"Word: {word}, Corrected: {corrected}\")\n"
      ],
      "metadata": {
        "colab": {
          "base_uri": "https://localhost:8080/"
        },
        "id": "tpqIIPRaJ1Mk",
        "outputId": "3f41ac22-7d6d-4672-bf5e-f13d6774cd20"
      },
      "execution_count": null,
      "outputs": [
        {
          "output_type": "stream",
          "name": "stdout",
          "text": [
            "Word: අඪවිය, Corrected: අඩවිය\n",
            "Word: ගලාපය, Corrected: කලාපය\n",
            "Word: උතාර, Corrected: උදාර\n",
            "Word: ඉහර, Corrected: ඉහළ\n"
          ]
        }
      ]
    },
    {
      "cell_type": "code",
      "source": [
        "from sklearn.metrics import accuracy_score\n",
        "\n",
        "#misspelled words and their correct versions\n",
        "test_dataset = [\n",
        "    (\"අඪවිය\", \"අඩවිය\"),  #misspelled,corrected\n",
        "    (\"ගලාපය\", \"කලාපය\"),\n",
        "    (\"උතාර\", \"උදාර\"),\n",
        "    (\"ඉහර\", \"ඉහළ\")\n",
        "]\n",
        "\n",
        "#function to evaluate accuracy\n",
        "def evaluate_accuracy(test_dataset, vocab_with_phonetics):\n",
        "    y_true = []  #correct words\n",
        "    y_pred = []  #predicted words\n",
        "\n",
        "    for misspelled, correct_word in test_dataset:\n",
        "        predicted_word = find_closest_match(misspelled, vocab_with_phonetics)\n",
        "        y_true.append(correct_word)\n",
        "        y_pred.append(predicted_word)\n",
        "\n",
        "    #calculate accuracy\n",
        "    accuracy = accuracy_score(y_true, y_pred)\n",
        "    return accuracy\n",
        "\n",
        "#example\n",
        "accuracy = evaluate_accuracy(test_dataset, vocab_with_phonetics)\n",
        "print(f\"Accuracy: {accuracy * 100:.2f}%\")\n"
      ],
      "metadata": {
        "colab": {
          "base_uri": "https://localhost:8080/"
        },
        "id": "vYnwianThLKb",
        "outputId": "9ea1a65e-82b7-49ec-faa2-39c90bc5cb49"
      },
      "execution_count": null,
      "outputs": [
        {
          "output_type": "stream",
          "name": "stdout",
          "text": [
            "Accuracy: 100.00%\n"
          ]
        }
      ]
    },
    {
      "cell_type": "code",
      "source": [],
      "metadata": {
        "id": "fnXniU-UnDi1"
      },
      "execution_count": null,
      "outputs": []
    }
  ]
}